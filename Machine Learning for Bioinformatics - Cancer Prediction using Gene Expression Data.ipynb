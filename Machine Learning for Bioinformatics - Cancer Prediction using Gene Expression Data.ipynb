{
 "cells": [
  {
   "cell_type": "markdown",
   "id": "d00394d7",
   "metadata": {
    "heading_collapsed": true
   },
   "source": [
    "## Load the necessary libraries"
   ]
  },
  {
   "cell_type": "code",
   "execution_count": 1,
   "id": "35db61f8",
   "metadata": {
    "ExecuteTime": {
     "end_time": "2023-08-20T19:24:53.942668Z",
     "start_time": "2023-08-20T19:24:52.386104Z"
    },
    "hidden": true
   },
   "outputs": [],
   "source": [
    "# data handling\n",
    "import pandas as pd\n",
    "import numpy as np\n",
    "\n",
    "# data visualization\n",
    "import matplotlib.pyplot as plt\n",
    "import seaborn as sns\n",
    "\n",
    "# preprocessing\n",
    "from sklearn.model_selection import train_test_split\n",
    "from sklearn.preprocessing import LabelEncoder\n",
    "from sklearn.preprocessing import label_binarize\n",
    "from sklearn.preprocessing import MinMaxScaler\n",
    "\n",
    "# feature selection\n",
    "from sklearn.feature_selection import mutual_info_classif\n",
    "\n",
    "# classification\n",
    "from sklearn.multiclass import OneVsRestClassifier\n",
    "from sklearn.ensemble import RandomForestClassifier\n",
    "\n",
    "# performance metrics\n",
    "from sklearn.metrics import balanced_accuracy_score,f1_score,precision_score,recall_score\n",
    "from sklearn.metrics import classification_report\n",
    "from sklearn.metrics import confusion_matrix\n",
    "from sklearn.metrics import roc_curve,auc\n",
    "from sklearn.metrics import roc_auc_score\n",
    "\n"
   ]
  },
  {
   "cell_type": "markdown",
   "id": "2463ccb8",
   "metadata": {},
   "source": [
    "## Import the data"
   ]
  },
  {
   "cell_type": "code",
   "execution_count": 3,
   "id": "253df04d",
   "metadata": {
    "ExecuteTime": {
     "end_time": "2023-08-20T19:27:30.289578Z",
     "start_time": "2023-08-20T19:27:29.062594Z"
    }
   },
   "outputs": [],
   "source": [
    "# link to data: https://archive.ics.uci.edu/dataset/401/gene+expression+cancer+rna+seq\n",
    "dataframe = pd.read_csv('cancer_gene_expression.zip')"
   ]
  },
  {
   "cell_type": "markdown",
   "id": "1ab9df60",
   "metadata": {
    "heading_collapsed": true
   },
   "source": [
    "## Data exploration and cleaning"
   ]
  },
  {
   "cell_type": "code",
   "execution_count": 4,
   "id": "fef530f7",
   "metadata": {
    "ExecuteTime": {
     "end_time": "2023-08-20T19:28:27.814980Z",
     "start_time": "2023-08-20T19:28:27.807974Z"
    },
    "hidden": true
   },
   "outputs": [
    {
     "name": "stdout",
     "output_type": "stream",
     "text": [
      "(801, 8001)\n"
     ]
    }
   ],
   "source": [
    "# check the numbe of rows and columns (last column contains the labels)\n",
    "# rows represent samples, columns represent features (except the last one)\n",
    "print(dataframe.shape)"
   ]
  },
  {
   "cell_type": "code",
   "execution_count": 7,
   "id": "11d9396e",
   "metadata": {
    "ExecuteTime": {
     "end_time": "2023-08-20T19:30:15.434909Z",
     "start_time": "2023-08-20T19:30:15.419379Z"
    },
    "hidden": true
   },
   "outputs": [
    {
     "data": {
      "text/plain": [
       "Index(['gene_1', 'gene_2', 'gene_3'], dtype='object')"
      ]
     },
     "execution_count": 7,
     "metadata": {},
     "output_type": "execute_result"
    }
   ],
   "source": [
    "# check some of the columns\n",
    "dataframe.columns[0:3]"
   ]
  },
  {
   "cell_type": "code",
   "execution_count": 6,
   "id": "20797f74",
   "metadata": {
    "ExecuteTime": {
     "end_time": "2023-08-20T19:30:07.143494Z",
     "start_time": "2023-08-20T19:30:07.132897Z"
    },
    "hidden": true
   },
   "outputs": [
    {
     "data": {
      "text/plain": [
       "'Cancer_Type'"
      ]
     },
     "execution_count": 6,
     "metadata": {},
     "output_type": "execute_result"
    }
   ],
   "source": [
    "# check the name of the last column\n",
    "dataframe.columns[-1]"
   ]
  },
  {
   "cell_type": "code",
   "execution_count": 10,
   "id": "cc33fed0",
   "metadata": {
    "ExecuteTime": {
     "end_time": "2023-08-20T19:33:29.981055Z",
     "start_time": "2023-08-20T19:33:29.953813Z"
    },
    "hidden": true
   },
   "outputs": [
    {
     "name": "stdout",
     "output_type": "stream",
     "text": [
      "Columns with missing values: 0\n"
     ]
    }
   ],
   "source": [
    "# check for missing values\n",
    "datanul = dataframe.isnull().sum()\n",
    "g=[i for i in datanul if i>0]\n",
    "print('Columns with missing values: %d'%len(g))"
   ]
  },
  {
   "cell_type": "code",
   "execution_count": 11,
   "id": "d15a4139",
   "metadata": {
    "ExecuteTime": {
     "end_time": "2023-08-20T19:34:24.805845Z",
     "start_time": "2023-08-20T19:34:24.784824Z"
    },
    "hidden": true,
    "scrolled": false
   },
   "outputs": [
    {
     "name": "stdout",
     "output_type": "stream",
     "text": [
      "Cancer_Type\n",
      "BRCA    300\n",
      "KIRC    146\n",
      "LUAD    141\n",
      "PRAD    136\n",
      "COAD     78\n",
      "Name: count, dtype: int64\n"
     ]
    }
   ],
   "source": [
    "# check how many different cancer types are there in the data\n",
    "print(dataframe['Cancer_Type'].value_counts())"
   ]
  },
  {
   "cell_type": "markdown",
   "id": "6a1a1a4c",
   "metadata": {
    "hidden": true
   },
   "source": [
    "We can see that there are 5 different cancer types."
   ]
  },
  {
   "cell_type": "code",
   "execution_count": 22,
   "id": "52c9d2c5",
   "metadata": {
    "ExecuteTime": {
     "end_time": "2023-08-20T19:39:00.097878Z",
     "start_time": "2023-08-20T19:39:00.008259Z"
    },
    "hidden": true,
    "scrolled": true
   },
   "outputs": [
    {
     "data": {
      "text/plain": [
       "<Axes: xlabel='Cancer_Type'>"
      ]
     },
     "execution_count": 22,
     "metadata": {},
     "output_type": "execute_result"
    },
    {
     "data": {
      "image/png": "[encoded data removed]",
      "text/plain": [
       "<Figure size 500x200 with 1 Axes>"
      ]
     },
     "metadata": {},
     "output_type": "display_data"
    }
   ],
   "source": [
    "# barchart to display the cancer type distribution\n",
    "dataframe['Cancer_Type'].value_counts().plot(kind='bar',figsize=(5,2))"
   ]
  },
  {
   "cell_type": "markdown",
   "id": "70d65999",
   "metadata": {
    "heading_collapsed": true
   },
   "source": [
    "## Data preprocessing\n",
    "This is needed so the data are in a appropriate format before modelling"
   ]
  },
  {
   "cell_type": "markdown",
   "id": "e7192a73",
   "metadata": {
    "hidden": true
   },
   "source": [
    "**1) Separate values from class**"
   ]
  },
  {
   "cell_type": "code",
   "execution_count": 29,
   "id": "363dcf02",
   "metadata": {
    "ExecuteTime": {
     "end_time": "2023-08-20T19:54:47.491335Z",
     "start_time": "2023-08-20T19:54:47.474988Z"
    },
    "hidden": true
   },
   "outputs": [],
   "source": [
    "# we first separate the values from the class (scikit requires it)\n",
    "X = dataframe.iloc[:,0:-1]\n",
    "y = dataframe.iloc[:,-1]"
   ]
  },
  {
   "cell_type": "code",
   "execution_count": 30,
   "id": "0115918c",
   "metadata": {
    "ExecuteTime": {
     "end_time": "2023-08-20T19:54:49.609385Z",
     "start_time": "2023-08-20T19:54:49.596747Z"
    },
    "hidden": true
   },
   "outputs": [
    {
     "data": {
      "text/plain": [
       "(801, 8000)"
      ]
     },
     "execution_count": 30,
     "metadata": {},
     "output_type": "execute_result"
    }
   ],
   "source": [
    "X.shape"
   ]
  },
  {
   "cell_type": "code",
   "execution_count": 31,
   "id": "df9c30c0",
   "metadata": {
    "ExecuteTime": {
     "end_time": "2023-08-20T19:54:52.125463Z",
     "start_time": "2023-08-20T19:54:52.113790Z"
    },
    "hidden": true
   },
   "outputs": [
    {
     "data": {
      "text/plain": [
       "(801,)"
      ]
     },
     "execution_count": 31,
     "metadata": {},
     "output_type": "execute_result"
    }
   ],
   "source": [
    "y.shape"
   ]
  },
  {
   "cell_type": "markdown",
   "id": "ad2da88a",
   "metadata": {
    "hidden": true
   },
   "source": [
    "**2) Encode the labels**\n",
    "\n",
    "The labels for this dataset are categorical and therefore we have to convert them to numeric forms. This process is called 'encoding'. ML models usually require input data to be in numeric form."
   ]
  },
  {
   "cell_type": "code",
   "execution_count": 32,
   "id": "44c71dce",
   "metadata": {
    "ExecuteTime": {
     "end_time": "2023-08-20T19:54:54.965478Z",
     "start_time": "2023-08-20T19:54:54.959267Z"
    },
    "hidden": true
   },
   "outputs": [],
   "source": [
    "# encode the labels (y) with values between 0 and n_classes-1 (using LabelEncoder)\n",
    "label_encoder = LabelEncoder()\n",
    "label_encoder.fit(y)\n",
    "y_encoded = label_encoder.transform(y)\n",
    "labels = label_encoder.classes_\n",
    "classes = np.unique(y_encoded)"
   ]
  },
  {
   "cell_type": "code",
   "execution_count": 33,
   "id": "c066ccbd",
   "metadata": {
    "ExecuteTime": {
     "end_time": "2023-08-20T19:54:57.043207Z",
     "start_time": "2023-08-20T19:54:57.038420Z"
    },
    "hidden": true
   },
   "outputs": [
    {
     "data": {
      "text/plain": [
       "array(['BRCA', 'COAD', 'KIRC', 'LUAD', 'PRAD'], dtype=object)"
      ]
     },
     "execution_count": 33,
     "metadata": {},
     "output_type": "execute_result"
    }
   ],
   "source": [
    "labels"
   ]
  },
  {
   "cell_type": "code",
   "execution_count": 34,
   "id": "3e649e13",
   "metadata": {
    "ExecuteTime": {
     "end_time": "2023-08-20T19:54:58.753562Z",
     "start_time": "2023-08-20T19:54:58.748753Z"
    },
    "hidden": true
   },
   "outputs": [
    {
     "data": {
      "text/plain": [
       "array([0, 1, 2, 3, 4])"
      ]
     },
     "execution_count": 34,
     "metadata": {},
     "output_type": "execute_result"
    }
   ],
   "source": [
    "classes"
   ]
  },
  {
   "cell_type": "markdown",
   "id": "a722887c",
   "metadata": {
    "hidden": true
   },
   "source": [
    "**3) Data splitting**\n",
    "\n",
    "In this step the data are split into training and test subsets. The training data are then initially parsed to the ML model. This is done in order to enable the model to identify discriminatory patters which can be used to make future predictions. The testing data is used to evaluate the model after the training phase."
   ]
  },
  {
   "cell_type": "code",
   "execution_count": 35,
   "id": "41606530",
   "metadata": {
    "ExecuteTime": {
     "end_time": "2023-08-20T19:55:08.063774Z",
     "start_time": "2023-08-20T19:55:08.016770Z"
    },
    "hidden": true
   },
   "outputs": [],
   "source": [
    "X_train,X_test,y_train,y_test = train_test_split(X,y_encoded,test_size=0.2,random_state=42)"
   ]
  },
  {
   "cell_type": "markdown",
   "id": "423dd28b",
   "metadata": {
    "hidden": true
   },
   "source": [
    "**4) Data normalization**\n",
    "\n",
    "Data normalization is done so that the values are in the same range. This improves model performance and avoids bias."
   ]
  },
  {
   "cell_type": "code",
   "execution_count": 36,
   "id": "8f4d3499",
   "metadata": {
    "ExecuteTime": {
     "end_time": "2023-08-20T19:59:59.248431Z",
     "start_time": "2023-08-20T19:59:59.224423Z"
    },
    "hidden": true
   },
   "outputs": [
    {
     "data": {
      "text/html": [
       "<div>\n",
       "<style scoped>\n",
       "    .dataframe tbody tr th:only-of-type {\n",
       "        vertical-align: middle;\n",
       "    }\n",
       "\n",
       "    .dataframe tbody tr th {\n",
       "        vertical-align: top;\n",
       "    }\n",
       "\n",
       "    .dataframe thead th {\n",
       "        text-align: right;\n",
       "    }\n",
       "</style>\n",
       "<table border=\"1\" class=\"dataframe\">\n",
       "  <thead>\n",
       "    <tr style=\"text-align: right;\">\n",
       "      <th></th>\n",
       "      <th>gene_1</th>\n",
       "      <th>gene_2</th>\n",
       "      <th>gene_3</th>\n",
       "      <th>gene_4</th>\n",
       "      <th>gene_5</th>\n",
       "      <th>gene_6</th>\n",
       "      <th>gene_7</th>\n",
       "      <th>gene_8</th>\n",
       "      <th>gene_9</th>\n",
       "      <th>gene_10</th>\n",
       "    </tr>\n",
       "  </thead>\n",
       "  <tbody>\n",
       "    <tr>\n",
       "      <th>count</th>\n",
       "      <td>801.000000</td>\n",
       "      <td>801.000000</td>\n",
       "      <td>801.000000</td>\n",
       "      <td>801.000000</td>\n",
       "      <td>801.000000</td>\n",
       "      <td>801.000000</td>\n",
       "      <td>801.000000</td>\n",
       "      <td>801.000000</td>\n",
       "      <td>801.000000</td>\n",
       "      <td>801.000000</td>\n",
       "    </tr>\n",
       "    <tr>\n",
       "      <th>mean</th>\n",
       "      <td>0.026642</td>\n",
       "      <td>0.231049</td>\n",
       "      <td>0.010844</td>\n",
       "      <td>2.405459</td>\n",
       "      <td>0.005799</td>\n",
       "      <td>0.065640</td>\n",
       "      <td>0.022036</td>\n",
       "      <td>0.028394</td>\n",
       "      <td>0.703998</td>\n",
       "      <td>1.916364</td>\n",
       "    </tr>\n",
       "    <tr>\n",
       "      <th>std</th>\n",
       "      <td>0.136850</td>\n",
       "      <td>0.656692</td>\n",
       "      <td>0.153859</td>\n",
       "      <td>0.797236</td>\n",
       "      <td>0.052265</td>\n",
       "      <td>0.213557</td>\n",
       "      <td>0.148917</td>\n",
       "      <td>0.161606</td>\n",
       "      <td>0.779321</td>\n",
       "      <td>0.877010</td>\n",
       "    </tr>\n",
       "    <tr>\n",
       "      <th>min</th>\n",
       "      <td>0.000000</td>\n",
       "      <td>0.000000</td>\n",
       "      <td>0.000000</td>\n",
       "      <td>0.000000</td>\n",
       "      <td>0.000000</td>\n",
       "      <td>0.000000</td>\n",
       "      <td>0.000000</td>\n",
       "      <td>0.000000</td>\n",
       "      <td>0.000000</td>\n",
       "      <td>0.000000</td>\n",
       "    </tr>\n",
       "    <tr>\n",
       "      <th>25%</th>\n",
       "      <td>0.000000</td>\n",
       "      <td>0.000000</td>\n",
       "      <td>0.000000</td>\n",
       "      <td>1.898595</td>\n",
       "      <td>0.000000</td>\n",
       "      <td>0.000000</td>\n",
       "      <td>0.000000</td>\n",
       "      <td>0.000000</td>\n",
       "      <td>0.000000</td>\n",
       "      <td>1.357214</td>\n",
       "    </tr>\n",
       "    <tr>\n",
       "      <th>50%</th>\n",
       "      <td>0.000000</td>\n",
       "      <td>0.000000</td>\n",
       "      <td>0.000000</td>\n",
       "      <td>2.358284</td>\n",
       "      <td>0.000000</td>\n",
       "      <td>0.000000</td>\n",
       "      <td>0.000000</td>\n",
       "      <td>0.000000</td>\n",
       "      <td>0.518031</td>\n",
       "      <td>1.877862</td>\n",
       "    </tr>\n",
       "    <tr>\n",
       "      <th>75%</th>\n",
       "      <td>0.000000</td>\n",
       "      <td>0.000000</td>\n",
       "      <td>0.000000</td>\n",
       "      <td>2.929355</td>\n",
       "      <td>0.000000</td>\n",
       "      <td>0.000000</td>\n",
       "      <td>0.000000</td>\n",
       "      <td>0.000000</td>\n",
       "      <td>1.123931</td>\n",
       "      <td>2.486792</td>\n",
       "    </tr>\n",
       "    <tr>\n",
       "      <th>max</th>\n",
       "      <td>1.482332</td>\n",
       "      <td>6.575004</td>\n",
       "      <td>3.778061</td>\n",
       "      <td>4.746646</td>\n",
       "      <td>0.570754</td>\n",
       "      <td>1.866275</td>\n",
       "      <td>2.169925</td>\n",
       "      <td>2.375957</td>\n",
       "      <td>4.541670</td>\n",
       "      <td>4.932231</td>\n",
       "    </tr>\n",
       "  </tbody>\n",
       "</table>\n",
       "</div>"
      ],
      "text/plain": [
       "           gene_1      gene_2      gene_3      gene_4      gene_5      gene_6  \\\n",
       "count  801.000000  801.000000  801.000000  801.000000  801.000000  801.000000   \n",
       "mean     0.026642    0.231049    0.010844    2.405459    0.005799    0.065640   \n",
       "std      0.136850    0.656692    0.153859    0.797236    0.052265    0.213557   \n",
       "min      0.000000    0.000000    0.000000    0.000000    0.000000    0.000000   \n",
       "25%      0.000000    0.000000    0.000000    1.898595    0.000000    0.000000   \n",
       "50%      0.000000    0.000000    0.000000    2.358284    0.000000    0.000000   \n",
       "75%      0.000000    0.000000    0.000000    2.929355    0.000000    0.000000   \n",
       "max      1.482332    6.575004    3.778061    4.746646    0.570754    1.866275   \n",
       "\n",
       "           gene_7      gene_8      gene_9     gene_10  \n",
       "count  801.000000  801.000000  801.000000  801.000000  \n",
       "mean     0.022036    0.028394    0.703998    1.916364  \n",
       "std      0.148917    0.161606    0.779321    0.877010  \n",
       "min      0.000000    0.000000    0.000000    0.000000  \n",
       "25%      0.000000    0.000000    0.000000    1.357214  \n",
       "50%      0.000000    0.000000    0.518031    1.877862  \n",
       "75%      0.000000    0.000000    1.123931    2.486792  \n",
       "max      2.169925    2.375957    4.541670    4.932231  "
      ]
     },
     "execution_count": 36,
     "metadata": {},
     "output_type": "execute_result"
    }
   ],
   "source": [
    "# see that the data are not in the same ranges (differenct columns have different maximums)\n",
    "dataframe.iloc[:,0:10].describe()"
   ]
  },
  {
   "cell_type": "code",
   "execution_count": 38,
   "id": "24fc3984",
   "metadata": {
    "ExecuteTime": {
     "end_time": "2023-08-20T20:01:26.244328Z",
     "start_time": "2023-08-20T20:01:26.111173Z"
    },
    "hidden": true
   },
   "outputs": [],
   "source": [
    "# scale data between 0 and 1\n",
    "min_max_scaler = MinMaxScaler()\n",
    "X_train_norm = min_max_scaler.fit_transform(X_train)\n",
    "X_test_norm = min_max_scaler.fit_transform(X_test)"
   ]
  },
  {
   "cell_type": "code",
   "execution_count": 39,
   "id": "399a21e0",
   "metadata": {
    "ExecuteTime": {
     "end_time": "2023-08-20T20:02:43.163692Z",
     "start_time": "2023-08-20T20:02:43.157691Z"
    },
    "hidden": true
   },
   "outputs": [
    {
     "data": {
      "text/plain": [
       "2.18164326123"
      ]
     },
     "execution_count": 39,
     "metadata": {},
     "output_type": "execute_result"
    }
   ],
   "source": [
    "# check a value before normalization\n",
    "X_train.iloc[0,3]"
   ]
  },
  {
   "cell_type": "code",
   "execution_count": 41,
   "id": "2be6bb4f",
   "metadata": {
    "ExecuteTime": {
     "end_time": "2023-08-20T20:03:17.416174Z",
     "start_time": "2023-08-20T20:03:17.399754Z"
    },
    "hidden": true
   },
   "outputs": [
    {
     "data": {
      "text/plain": [
       "0.4671305057022768"
      ]
     },
     "execution_count": 41,
     "metadata": {},
     "output_type": "execute_result"
    }
   ],
   "source": [
    "# check the same value after normalization (should be between 0 and 1)\n",
    "X_train_norm[0,3]"
   ]
  },
  {
   "cell_type": "markdown",
   "id": "634fcdd8",
   "metadata": {},
   "source": [
    "## Feature selection"
   ]
  },
  {
   "cell_type": "markdown",
   "id": "bc153da3",
   "metadata": {},
   "source": [
    "The purpose of feature selection is about selecting relevant features for classification. Feature selection is usually done before the actual learning. In this script, the mutual information algorithm is used to compute the relevance of each feature. The top n (e.g. 300) features are selected for the ML analysis."
   ]
  },
  {
   "cell_type": "markdown",
   "id": "104e246a",
   "metadata": {},
   "source": [
    "**Feature selection using Mutual Information**"
   ]
  },
  {
   "cell_type": "code",
   "execution_count": 42,
   "id": "9ff5155a",
   "metadata": {
    "ExecuteTime": {
     "end_time": "2023-08-20T20:08:09.819241Z",
     "start_time": "2023-08-20T20:07:40.050061Z"
    }
   },
   "outputs": [],
   "source": [
    "MI = mutual_info_classif(X_train_norm,y_train)"
   ]
  },
  {
   "cell_type": "code",
   "execution_count": 43,
   "id": "39ae98db",
   "metadata": {
    "ExecuteTime": {
     "end_time": "2023-08-20T20:11:36.241595Z",
     "start_time": "2023-08-20T20:11:36.222744Z"
    }
   },
   "outputs": [
    {
     "data": {
      "text/plain": [
       "(8000,)"
      ]
     },
     "execution_count": 43,
     "metadata": {},
     "output_type": "execute_result"
    }
   ],
   "source": [
    "# number of features\n",
    "MI.shape"
   ]
  },
  {
   "cell_type": "code",
   "execution_count": 44,
   "id": "985b1cd1",
   "metadata": {
    "ExecuteTime": {
     "end_time": "2023-08-20T20:12:09.688427Z",
     "start_time": "2023-08-20T20:12:09.670748Z"
    }
   },
   "outputs": [
    {
     "data": {
      "text/plain": [
       "array([0.        , 0.0606329 , 0.        , 0.05102498, 0.00862829])"
      ]
     },
     "execution_count": 44,
     "metadata": {},
     "output_type": "execute_result"
    }
   ],
   "source": [
    "# first 5 (not sorted)\n",
    "MI[0:5]"
   ]
  },
  {
   "cell_type": "code",
   "execution_count": 46,
   "id": "9ab46d47",
   "metadata": {
    "ExecuteTime": {
     "end_time": "2023-08-20T20:13:27.082530Z",
     "start_time": "2023-08-20T20:13:27.066881Z"
    }
   },
   "outputs": [],
   "source": [
    "features = X_train.columns"
   ]
  },
  {
   "cell_type": "code",
   "execution_count": 47,
   "id": "68ee27b7",
   "metadata": {
    "ExecuteTime": {
     "end_time": "2023-08-20T20:13:38.118945Z",
     "start_time": "2023-08-20T20:13:38.114908Z"
    }
   },
   "outputs": [
    {
     "data": {
      "text/plain": [
       "(8000,)"
      ]
     },
     "execution_count": 47,
     "metadata": {},
     "output_type": "execute_result"
    }
   ],
   "source": [
    "features.shape"
   ]
  },
  {
   "cell_type": "code",
   "execution_count": 48,
   "id": "8fbac89f",
   "metadata": {
    "ExecuteTime": {
     "end_time": "2023-08-20T20:13:47.316945Z",
     "start_time": "2023-08-20T20:13:47.311945Z"
    }
   },
   "outputs": [
    {
     "data": {
      "text/plain": [
       "Index(['gene_1', 'gene_2', 'gene_3', 'gene_4', 'gene_5'], dtype='object')"
      ]
     },
     "execution_count": 48,
     "metadata": {},
     "output_type": "execute_result"
    }
   ],
   "source": [
    "features[0:5]"
   ]
  },
  {
   "cell_type": "code",
   "execution_count": 50,
   "id": "0d731075",
   "metadata": {
    "ExecuteTime": {
     "end_time": "2023-08-20T20:14:43.593490Z",
     "start_time": "2023-08-20T20:14:43.582490Z"
    }
   },
   "outputs": [],
   "source": [
    "# select top n features (you can play around the n value and see the model's performance)\n",
    "n_features = 300\n",
    "selected_scores_indices = np.argsort(MI)[::-1][0:n_features]\n",
    "# np.argsort(MI) this means that we first sort the features \n",
    "# [::-1] then reverse so we have them from highest to lowest \n",
    "# [0:n_features] and the select the first 300"
   ]
  },
  {
   "cell_type": "code",
   "execution_count": 51,
   "id": "da1b647f",
   "metadata": {
    "ExecuteTime": {
     "end_time": "2023-08-20T20:14:46.858848Z",
     "start_time": "2023-08-20T20:14:46.841332Z"
    }
   },
   "outputs": [],
   "source": [
    "X_train_selected = X_train_norm[:,selected_scores_indices]\n",
    "X_test_selected = X_test_norm[:,selected_scores_indices]"
   ]
  },
  {
   "cell_type": "code",
   "execution_count": 52,
   "id": "256364d1",
   "metadata": {
    "ExecuteTime": {
     "end_time": "2023-08-20T20:14:59.893210Z",
     "start_time": "2023-08-20T20:14:59.888697Z"
    }
   },
   "outputs": [
    {
     "data": {
      "text/plain": [
       "(640, 300)"
      ]
     },
     "execution_count": 52,
     "metadata": {},
     "output_type": "execute_result"
    }
   ],
   "source": [
    "X_train_selected.shape "
   ]
  },
  {
   "cell_type": "code",
   "execution_count": 53,
   "id": "c5c98115",
   "metadata": {
    "ExecuteTime": {
     "end_time": "2023-08-20T20:15:19.502448Z",
     "start_time": "2023-08-20T20:15:19.495936Z"
    }
   },
   "outputs": [
    {
     "data": {
      "text/plain": [
       "(161, 300)"
      ]
     },
     "execution_count": 53,
     "metadata": {},
     "output_type": "execute_result"
    }
   ],
   "source": [
    "X_test_selected.shape"
   ]
  },
  {
   "cell_type": "markdown",
   "id": "62cd2b36",
   "metadata": {},
   "source": [
    "## Classification"
   ]
  },
  {
   "cell_type": "markdown",
   "id": "e2721a60",
   "metadata": {},
   "source": [
    "In this script, the random forest classifier is used because it works with multiclass and high dimensional data. Classification involves training and testing the model.\n",
    "Info about the model: \n",
    "https://scikit-learn.org/stable/modules/generated/sklearn.ensemble.RandomForestClassifier.html"
   ]
  },
  {
   "cell_type": "markdown",
   "id": "568ca4b7",
   "metadata": {},
   "source": [
    "**Model training**\n",
    "\n",
    "Training allows the ML model to learn from the data and use the identified patterns to predict the outcomes of data it has never seen before."
   ]
  },
  {
   "cell_type": "code",
   "execution_count": 54,
   "id": "84ebf7f7",
   "metadata": {
    "ExecuteTime": {
     "end_time": "2023-08-20T20:27:45.581485Z",
     "start_time": "2023-08-20T20:27:34.380984Z"
    }
   },
   "outputs": [],
   "source": [
    "# Random forest classifier \n",
    "# Because we are dealing with multiclass data, the one versus rest strategy is used.\n",
    "# learn to predict each class against the other\n",
    "\n",
    "RF = OneVsRestClassifier(RandomForestClassifier(max_features=0.2))\n",
    "RF.fit(X_train_selected,y_train) # we fit the train data together with their labels in the classifier = Supervised learning\n",
    "y_pred = RF.predict(X_test_selected) # after training we make the predictions\n",
    "pred_prob = RF.predict_proba(X_test_selected) # get probabilities for the classifier so we get the roc curves"
   ]
  },
  {
   "cell_type": "markdown",
   "id": "32b3d0e4",
   "metadata": {},
   "source": [
    "**Model Evaluation**\n",
    "\n",
    "After training the model, it is important to know how well the model performs on independent data (test data). We use the following metrics to evaluate the model:\n",
    "\n",
    "- accuracy\n",
    "- precision\n",
    "- recall\n",
    "- f1 score\n",
    "- confusion matrix\n",
    "- ROC Curve"
   ]
  }
 ],
 "metadata": {
  "kernelspec": {
   "display_name": "Python 3 (ipykernel)",
   "language": "python",
   "name": "python3"
  },
  "language_info": {
   "codemirror_mode": {
    "name": "ipython",
    "version": 3
   },
   "file_extension": ".py",
   "mimetype": "text/x-python",
   "name": "python",
   "nbconvert_exporter": "python",
   "pygments_lexer": "ipython3",
   "version": "3.9.15"
  }
 },
 "nbformat": 4,
 "nbformat_minor": 5
}
