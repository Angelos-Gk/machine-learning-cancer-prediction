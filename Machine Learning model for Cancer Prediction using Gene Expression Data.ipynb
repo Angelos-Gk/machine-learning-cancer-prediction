{
 "cells": [
  {
   "cell_type": "markdown",
   "id": "d00394d7",
   "metadata": {},
   "source": [
    "## Load the necessary libraries"
   ]
  },
  {
   "cell_type": "code",
   "execution_count": 38,
   "id": "35db61f8",
   "metadata": {
    "ExecuteTime": {
     "end_time": "2023-08-21T14:52:04.466036Z",
     "start_time": "2023-08-21T14:52:04.451034Z"
    }
   },
   "outputs": [],
   "source": [
    "# data handling\n",
    "import pandas as pd\n",
    "import numpy as np\n",
    "\n",
    "# data visualization\n",
    "import matplotlib.pyplot as plt\n",
    "import seaborn as sns\n",
    "\n",
    "# preprocessing\n",
    "from sklearn.model_selection import train_test_split\n",
    "from sklearn.preprocessing import LabelEncoder\n",
    "from sklearn.preprocessing import label_binarize\n",
    "from sklearn.preprocessing import MinMaxScaler\n",
    "\n",
    "# feature selection\n",
    "from sklearn.feature_selection import mutual_info_classif\n",
    "\n",
    "# classification\n",
    "from sklearn.multiclass import OneVsRestClassifier\n",
    "from sklearn.ensemble import RandomForestClassifier\n",
    "\n",
    "# performance metrics\n",
    "from sklearn.metrics import balanced_accuracy_score,f1_score,precision_score,recall_score\n",
    "from sklearn.metrics import classification_report\n",
    "from sklearn.metrics import confusion_matrix\n",
    "from sklearn.metrics import roc_curve,auc\n",
    "from sklearn.metrics import roc_auc_score\n",
    "\n",
    "# check package version in the end for better reproducibility\n",
    "import session_info"
   ]
  },
  {
   "cell_type": "markdown",
   "id": "2463ccb8",
   "metadata": {},
   "source": [
    "## Import the data"
   ]
  },
  {
   "cell_type": "code",
   "execution_count": 3,
   "id": "253df04d",
   "metadata": {
    "ExecuteTime": {
     "end_time": "2023-08-21T14:15:09.838644Z",
     "start_time": "2023-08-21T14:15:08.592885Z"
    }
   },
   "outputs": [],
   "source": [
    "# link to data: https://archive.ics.uci.edu/dataset/401/gene+expression+cancer+rna+seq\n",
    "dataframe = pd.read_csv('cancer_gene_expression.zip')"
   ]
  },
  {
   "cell_type": "markdown",
   "id": "1ab9df60",
   "metadata": {},
   "source": [
    "## Data exploration and cleaning"
   ]
  },
  {
   "cell_type": "code",
   "execution_count": 4,
   "id": "fef530f7",
   "metadata": {
    "ExecuteTime": {
     "end_time": "2023-08-21T14:15:09.854644Z",
     "start_time": "2023-08-21T14:15:09.840644Z"
    }
   },
   "outputs": [
    {
     "name": "stdout",
     "output_type": "stream",
     "text": [
      "(801, 8001)\n"
     ]
    }
   ],
   "source": [
    "# check the numbe of rows and columns (last column contains the labels)\n",
    "# rows represent samples, columns represent features (except the last one)\n",
    "print(dataframe.shape)"
   ]
  },
  {
   "cell_type": "code",
   "execution_count": 5,
   "id": "11d9396e",
   "metadata": {
    "ExecuteTime": {
     "end_time": "2023-08-21T14:15:09.870670Z",
     "start_time": "2023-08-21T14:15:09.856645Z"
    }
   },
   "outputs": [
    {
     "data": {
      "text/plain": [
       "Index(['gene_1', 'gene_2', 'gene_3'], dtype='object')"
      ]
     },
     "execution_count": 5,
     "metadata": {},
     "output_type": "execute_result"
    }
   ],
   "source": [
    "# check some of the columns\n",
    "dataframe.columns[0:3]"
   ]
  },
  {
   "cell_type": "code",
   "execution_count": 6,
   "id": "20797f74",
   "metadata": {
    "ExecuteTime": {
     "end_time": "2023-08-21T14:15:09.886692Z",
     "start_time": "2023-08-21T14:15:09.871670Z"
    }
   },
   "outputs": [
    {
     "data": {
      "text/plain": [
       "'Cancer_Type'"
      ]
     },
     "execution_count": 6,
     "metadata": {},
     "output_type": "execute_result"
    }
   ],
   "source": [
    "# check the name of the last column\n",
    "dataframe.columns[-1]"
   ]
  },
  {
   "cell_type": "code",
   "execution_count": 7,
   "id": "cc33fed0",
   "metadata": {
    "ExecuteTime": {
     "end_time": "2023-08-21T14:15:09.918208Z",
     "start_time": "2023-08-21T14:15:09.887692Z"
    }
   },
   "outputs": [
    {
     "name": "stdout",
     "output_type": "stream",
     "text": [
      "Columns with missing values: 0\n"
     ]
    }
   ],
   "source": [
    "# check for missing values\n",
    "datanul = dataframe.isnull().sum()\n",
    "g=[i for i in datanul if i>0]\n",
    "print('Columns with missing values: %d'%len(g))"
   ]
  },
  {
   "cell_type": "code",
   "execution_count": 8,
   "id": "d15a4139",
   "metadata": {
    "ExecuteTime": {
     "end_time": "2023-08-21T14:15:09.934208Z",
     "start_time": "2023-08-21T14:15:09.919208Z"
    },
    "scrolled": false
   },
   "outputs": [
    {
     "name": "stdout",
     "output_type": "stream",
     "text": [
      "Cancer_Type\n",
      "BRCA    300\n",
      "KIRC    146\n",
      "LUAD    141\n",
      "PRAD    136\n",
      "COAD     78\n",
      "Name: count, dtype: int64\n"
     ]
    }
   ],
   "source": [
    "# check how many different cancer types are there in the data\n",
    "print(dataframe['Cancer_Type'].value_counts())"
   ]
  },
  {
   "cell_type": "markdown",
   "id": "6a1a1a4c",
   "metadata": {},
   "source": [
    "We can see that there are 5 different cancer types."
   ]
  },
  {
   "cell_type": "code",
   "execution_count": 9,
   "id": "52c9d2c5",
   "metadata": {
    "ExecuteTime": {
     "end_time": "2023-08-21T14:15:10.075853Z",
     "start_time": "2023-08-21T14:15:09.936210Z"
    },
    "scrolled": true
   },
   "outputs": [
    {
     "data": {
      "text/plain": [
       "<Axes: xlabel='Cancer_Type'>"
      ]
     },
     "execution_count": 9,
     "metadata": {},
     "output_type": "execute_result"
    },
    {
     "data": {
      "image/png": "[encoded data removed]",
      "text/plain": [
       "<Figure size 500x200 with 1 Axes>"
      ]
     },
     "metadata": {},
     "output_type": "display_data"
    }
   ],
   "source": [
    "# barchart to display the cancer type distribution\n",
    "dataframe['Cancer_Type'].value_counts().plot(kind='bar',figsize=(5,2))"
   ]
  },
  {
   "cell_type": "markdown",
   "id": "70d65999",
   "metadata": {},
   "source": [
    "## Data preprocessing\n",
    "This is needed so the data are in a appropriate format before modelling"
   ]
  },
  {
   "cell_type": "markdown",
   "id": "e7192a73",
   "metadata": {},
   "source": [
    "**1) Separate values from class**"
   ]
  },
  {
   "cell_type": "code",
   "execution_count": 10,
   "id": "363dcf02",
   "metadata": {
    "ExecuteTime": {
     "end_time": "2023-08-21T14:15:10.091854Z",
     "start_time": "2023-08-21T14:15:10.076856Z"
    }
   },
   "outputs": [],
   "source": [
    "# we first separate the values from the class (scikit requires it)\n",
    "X = dataframe.iloc[:,0:-1]\n",
    "y = dataframe.iloc[:,-1]"
   ]
  },
  {
   "cell_type": "code",
   "execution_count": 11,
   "id": "0115918c",
   "metadata": {
    "ExecuteTime": {
     "end_time": "2023-08-21T14:15:10.107859Z",
     "start_time": "2023-08-21T14:15:10.094855Z"
    }
   },
   "outputs": [
    {
     "data": {
      "text/plain": [
       "(801, 8000)"
      ]
     },
     "execution_count": 11,
     "metadata": {},
     "output_type": "execute_result"
    }
   ],
   "source": [
    "X.shape"
   ]
  },
  {
   "cell_type": "code",
   "execution_count": 12,
   "id": "df9c30c0",
   "metadata": {
    "ExecuteTime": {
     "end_time": "2023-08-21T14:15:10.122932Z",
     "start_time": "2023-08-21T14:15:10.108862Z"
    }
   },
   "outputs": [
    {
     "data": {
      "text/plain": [
       "(801,)"
      ]
     },
     "execution_count": 12,
     "metadata": {},
     "output_type": "execute_result"
    }
   ],
   "source": [
    "y.shape"
   ]
  },
  {
   "cell_type": "markdown",
   "id": "ad2da88a",
   "metadata": {},
   "source": [
    "**2) Encode the labels**\n",
    "\n",
    "The labels for this dataset are categorical and therefore we have to convert them to numeric forms. This process is called 'encoding'. ML models usually require input data to be in numeric form."
   ]
  },
  {
   "cell_type": "code",
   "execution_count": 13,
   "id": "44c71dce",
   "metadata": {
    "ExecuteTime": {
     "end_time": "2023-08-21T14:15:10.138955Z",
     "start_time": "2023-08-21T14:15:10.123933Z"
    }
   },
   "outputs": [],
   "source": [
    "# encode the labels (y) with values between 0 and n_classes-1 (using LabelEncoder)\n",
    "label_encoder = LabelEncoder()\n",
    "label_encoder.fit(y)\n",
    "y_encoded = label_encoder.transform(y)\n",
    "labels = label_encoder.classes_\n",
    "classes = np.unique(y_encoded)"
   ]
  },
  {
   "cell_type": "code",
   "execution_count": 14,
   "id": "c066ccbd",
   "metadata": {
    "ExecuteTime": {
     "end_time": "2023-08-21T14:15:10.153955Z",
     "start_time": "2023-08-21T14:15:10.139956Z"
    }
   },
   "outputs": [
    {
     "data": {
      "text/plain": [
       "array(['BRCA', 'COAD', 'KIRC', 'LUAD', 'PRAD'], dtype=object)"
      ]
     },
     "execution_count": 14,
     "metadata": {},
     "output_type": "execute_result"
    }
   ],
   "source": [
    "labels"
   ]
  },
  {
   "cell_type": "code",
   "execution_count": 15,
   "id": "3e649e13",
   "metadata": {
    "ExecuteTime": {
     "end_time": "2023-08-21T14:15:10.169954Z",
     "start_time": "2023-08-21T14:15:10.154954Z"
    }
   },
   "outputs": [
    {
     "data": {
      "text/plain": [
       "array([0, 1, 2, 3, 4])"
      ]
     },
     "execution_count": 15,
     "metadata": {},
     "output_type": "execute_result"
    }
   ],
   "source": [
    "classes"
   ]
  },
  {
   "cell_type": "markdown",
   "id": "a722887c",
   "metadata": {},
   "source": [
    "**3) Data splitting**\n",
    "\n",
    "In this step the data are split into training and test subsets. The training data are then initially parsed to the ML model. This is done in order to enable the model to identify discriminatory patters which can be used to make future predictions. The testing data is used to evaluate the model after the training phase."
   ]
  },
  {
   "cell_type": "code",
   "execution_count": 16,
   "id": "41606530",
   "metadata": {
    "ExecuteTime": {
     "end_time": "2023-08-21T14:15:10.217470Z",
     "start_time": "2023-08-21T14:15:10.171957Z"
    }
   },
   "outputs": [],
   "source": [
    "X_train,X_test,y_train,y_test = train_test_split(X,y_encoded,test_size=0.2,random_state=42)"
   ]
  },
  {
   "cell_type": "markdown",
   "id": "423dd28b",
   "metadata": {},
   "source": [
    "**4) Data normalization**\n",
    "\n",
    "Data normalization is done so that the values are in the same range. This improves model performance and avoids bias."
   ]
  },
  {
   "cell_type": "code",
   "execution_count": 17,
   "id": "8f4d3499",
   "metadata": {
    "ExecuteTime": {
     "end_time": "2023-08-21T14:15:10.249470Z",
     "start_time": "2023-08-21T14:15:10.218472Z"
    }
   },
   "outputs": [
    {
     "data": {
      "text/html": [
       "<div>\n",
       "<style scoped>\n",
       "    .dataframe tbody tr th:only-of-type {\n",
       "        vertical-align: middle;\n",
       "    }\n",
       "\n",
       "    .dataframe tbody tr th {\n",
       "        vertical-align: top;\n",
       "    }\n",
       "\n",
       "    .dataframe thead th {\n",
       "        text-align: right;\n",
       "    }\n",
       "</style>\n",
       "<table border=\"1\" class=\"dataframe\">\n",
       "  <thead>\n",
       "    <tr style=\"text-align: right;\">\n",
       "      <th></th>\n",
       "      <th>gene_1</th>\n",
       "      <th>gene_2</th>\n",
       "      <th>gene_3</th>\n",
       "      <th>gene_4</th>\n",
       "      <th>gene_5</th>\n",
       "      <th>gene_6</th>\n",
       "      <th>gene_7</th>\n",
       "      <th>gene_8</th>\n",
       "      <th>gene_9</th>\n",
       "      <th>gene_10</th>\n",
       "    </tr>\n",
       "  </thead>\n",
       "  <tbody>\n",
       "    <tr>\n",
       "      <th>count</th>\n",
       "      <td>801.000000</td>\n",
       "      <td>801.000000</td>\n",
       "      <td>801.000000</td>\n",
       "      <td>801.000000</td>\n",
       "      <td>801.000000</td>\n",
       "      <td>801.000000</td>\n",
       "      <td>801.000000</td>\n",
       "      <td>801.000000</td>\n",
       "      <td>801.000000</td>\n",
       "      <td>801.000000</td>\n",
       "    </tr>\n",
       "    <tr>\n",
       "      <th>mean</th>\n",
       "      <td>0.026642</td>\n",
       "      <td>0.231049</td>\n",
       "      <td>0.010844</td>\n",
       "      <td>2.405459</td>\n",
       "      <td>0.005799</td>\n",
       "      <td>0.065640</td>\n",
       "      <td>0.022036</td>\n",
       "      <td>0.028394</td>\n",
       "      <td>0.703998</td>\n",
       "      <td>1.916364</td>\n",
       "    </tr>\n",
       "    <tr>\n",
       "      <th>std</th>\n",
       "      <td>0.136850</td>\n",
       "      <td>0.656692</td>\n",
       "      <td>0.153859</td>\n",
       "      <td>0.797236</td>\n",
       "      <td>0.052265</td>\n",
       "      <td>0.213557</td>\n",
       "      <td>0.148917</td>\n",
       "      <td>0.161606</td>\n",
       "      <td>0.779321</td>\n",
       "      <td>0.877010</td>\n",
       "    </tr>\n",
       "    <tr>\n",
       "      <th>min</th>\n",
       "      <td>0.000000</td>\n",
       "      <td>0.000000</td>\n",
       "      <td>0.000000</td>\n",
       "      <td>0.000000</td>\n",
       "      <td>0.000000</td>\n",
       "      <td>0.000000</td>\n",
       "      <td>0.000000</td>\n",
       "      <td>0.000000</td>\n",
       "      <td>0.000000</td>\n",
       "      <td>0.000000</td>\n",
       "    </tr>\n",
       "    <tr>\n",
       "      <th>25%</th>\n",
       "      <td>0.000000</td>\n",
       "      <td>0.000000</td>\n",
       "      <td>0.000000</td>\n",
       "      <td>1.898595</td>\n",
       "      <td>0.000000</td>\n",
       "      <td>0.000000</td>\n",
       "      <td>0.000000</td>\n",
       "      <td>0.000000</td>\n",
       "      <td>0.000000</td>\n",
       "      <td>1.357214</td>\n",
       "    </tr>\n",
       "    <tr>\n",
       "      <th>50%</th>\n",
       "      <td>0.000000</td>\n",
       "      <td>0.000000</td>\n",
       "      <td>0.000000</td>\n",
       "      <td>2.358284</td>\n",
       "      <td>0.000000</td>\n",
       "      <td>0.000000</td>\n",
       "      <td>0.000000</td>\n",
       "      <td>0.000000</td>\n",
       "      <td>0.518031</td>\n",
       "      <td>1.877862</td>\n",
       "    </tr>\n",
       "    <tr>\n",
       "      <th>75%</th>\n",
       "      <td>0.000000</td>\n",
       "      <td>0.000000</td>\n",
       "      <td>0.000000</td>\n",
       "      <td>2.929355</td>\n",
       "      <td>0.000000</td>\n",
       "      <td>0.000000</td>\n",
       "      <td>0.000000</td>\n",
       "      <td>0.000000</td>\n",
       "      <td>1.123931</td>\n",
       "      <td>2.486792</td>\n",
       "    </tr>\n",
       "    <tr>\n",
       "      <th>max</th>\n",
       "      <td>1.482332</td>\n",
       "      <td>6.575004</td>\n",
       "      <td>3.778061</td>\n",
       "      <td>4.746646</td>\n",
       "      <td>0.570754</td>\n",
       "      <td>1.866275</td>\n",
       "      <td>2.169925</td>\n",
       "      <td>2.375957</td>\n",
       "      <td>4.541670</td>\n",
       "      <td>4.932231</td>\n",
       "    </tr>\n",
       "  </tbody>\n",
       "</table>\n",
       "</div>"
      ],
      "text/plain": [
       "           gene_1      gene_2      gene_3      gene_4      gene_5      gene_6  \\\n",
       "count  801.000000  801.000000  801.000000  801.000000  801.000000  801.000000   \n",
       "mean     0.026642    0.231049    0.010844    2.405459    0.005799    0.065640   \n",
       "std      0.136850    0.656692    0.153859    0.797236    0.052265    0.213557   \n",
       "min      0.000000    0.000000    0.000000    0.000000    0.000000    0.000000   \n",
       "25%      0.000000    0.000000    0.000000    1.898595    0.000000    0.000000   \n",
       "50%      0.000000    0.000000    0.000000    2.358284    0.000000    0.000000   \n",
       "75%      0.000000    0.000000    0.000000    2.929355    0.000000    0.000000   \n",
       "max      1.482332    6.575004    3.778061    4.746646    0.570754    1.866275   \n",
       "\n",
       "           gene_7      gene_8      gene_9     gene_10  \n",
       "count  801.000000  801.000000  801.000000  801.000000  \n",
       "mean     0.022036    0.028394    0.703998    1.916364  \n",
       "std      0.148917    0.161606    0.779321    0.877010  \n",
       "min      0.000000    0.000000    0.000000    0.000000  \n",
       "25%      0.000000    0.000000    0.000000    1.357214  \n",
       "50%      0.000000    0.000000    0.518031    1.877862  \n",
       "75%      0.000000    0.000000    1.123931    2.486792  \n",
       "max      2.169925    2.375957    4.541670    4.932231  "
      ]
     },
     "execution_count": 17,
     "metadata": {},
     "output_type": "execute_result"
    }
   ],
   "source": [
    "# see that the data are not in the same ranges (differenct columns have different maximums)\n",
    "dataframe.iloc[:,0:10].describe()"
   ]
  },
  {
   "cell_type": "code",
   "execution_count": 18,
   "id": "24fc3984",
   "metadata": {
    "ExecuteTime": {
     "end_time": "2023-08-21T14:15:10.393034Z",
     "start_time": "2023-08-21T14:15:10.251472Z"
    }
   },
   "outputs": [],
   "source": [
    "# scale data between 0 and 1\n",
    "min_max_scaler = MinMaxScaler()\n",
    "X_train_norm = min_max_scaler.fit_transform(X_train)\n",
    "X_test_norm = min_max_scaler.fit_transform(X_test)"
   ]
  },
  {
   "cell_type": "code",
   "execution_count": 19,
   "id": "399a21e0",
   "metadata": {
    "ExecuteTime": {
     "end_time": "2023-08-21T14:15:10.408039Z",
     "start_time": "2023-08-21T14:15:10.394035Z"
    }
   },
   "outputs": [
    {
     "data": {
      "text/plain": [
       "2.18164326123"
      ]
     },
     "execution_count": 19,
     "metadata": {},
     "output_type": "execute_result"
    }
   ],
   "source": [
    "# check a value before normalization\n",
    "X_train.iloc[0,3]"
   ]
  },
  {
   "cell_type": "code",
   "execution_count": 20,
   "id": "2be6bb4f",
   "metadata": {
    "ExecuteTime": {
     "end_time": "2023-08-21T14:15:10.423123Z",
     "start_time": "2023-08-21T14:15:10.410040Z"
    }
   },
   "outputs": [
    {
     "data": {
      "text/plain": [
       "0.4671305057022768"
      ]
     },
     "execution_count": 20,
     "metadata": {},
     "output_type": "execute_result"
    }
   ],
   "source": [
    "# check the same value after normalization (should be between 0 and 1)\n",
    "X_train_norm[0,3]"
   ]
  },
  {
   "cell_type": "markdown",
   "id": "634fcdd8",
   "metadata": {},
   "source": [
    "## Feature selection"
   ]
  },
  {
   "cell_type": "markdown",
   "id": "bc153da3",
   "metadata": {},
   "source": [
    "The purpose of feature selection is about selecting relevant features for classification. Feature selection is usually done before the actual learning. In this script, the mutual information algorithm is used to compute the relevance of each feature. The top n (e.g. 300) features are selected for the ML analysis."
   ]
  },
  {
   "cell_type": "markdown",
   "id": "104e246a",
   "metadata": {},
   "source": [
    "**Feature selection using Mutual Information**"
   ]
  },
  {
   "cell_type": "code",
   "execution_count": 21,
   "id": "9ff5155a",
   "metadata": {
    "ExecuteTime": {
     "end_time": "2023-08-21T14:15:39.713346Z",
     "start_time": "2023-08-21T14:15:10.425127Z"
    }
   },
   "outputs": [],
   "source": [
    "MI = mutual_info_classif(X_train_norm,y_train)"
   ]
  },
  {
   "cell_type": "code",
   "execution_count": 22,
   "id": "39ae98db",
   "metadata": {
    "ExecuteTime": {
     "end_time": "2023-08-21T14:15:39.729350Z",
     "start_time": "2023-08-21T14:15:39.714347Z"
    }
   },
   "outputs": [
    {
     "data": {
      "text/plain": [
       "(8000,)"
      ]
     },
     "execution_count": 22,
     "metadata": {},
     "output_type": "execute_result"
    }
   ],
   "source": [
    "# number of features\n",
    "MI.shape"
   ]
  },
  {
   "cell_type": "code",
   "execution_count": 23,
   "id": "985b1cd1",
   "metadata": {
    "ExecuteTime": {
     "end_time": "2023-08-21T14:15:39.744862Z",
     "start_time": "2023-08-21T14:15:39.730352Z"
    }
   },
   "outputs": [
    {
     "data": {
      "text/plain": [
       "array([0.00791118, 0.05664001, 0.01235477, 0.05237047, 0.        ])"
      ]
     },
     "execution_count": 23,
     "metadata": {},
     "output_type": "execute_result"
    }
   ],
   "source": [
    "# first 5 (not sorted)\n",
    "MI[0:5]"
   ]
  },
  {
   "cell_type": "code",
   "execution_count": 24,
   "id": "9ab46d47",
   "metadata": {
    "ExecuteTime": {
     "end_time": "2023-08-21T14:15:39.760881Z",
     "start_time": "2023-08-21T14:15:39.745861Z"
    }
   },
   "outputs": [],
   "source": [
    "features = X_train.columns"
   ]
  },
  {
   "cell_type": "code",
   "execution_count": 25,
   "id": "68ee27b7",
   "metadata": {
    "ExecuteTime": {
     "end_time": "2023-08-21T14:15:39.776881Z",
     "start_time": "2023-08-21T14:15:39.761883Z"
    }
   },
   "outputs": [
    {
     "data": {
      "text/plain": [
       "(8000,)"
      ]
     },
     "execution_count": 25,
     "metadata": {},
     "output_type": "execute_result"
    }
   ],
   "source": [
    "features.shape"
   ]
  },
  {
   "cell_type": "code",
   "execution_count": 26,
   "id": "8fbac89f",
   "metadata": {
    "ExecuteTime": {
     "end_time": "2023-08-21T14:15:39.792882Z",
     "start_time": "2023-08-21T14:15:39.777881Z"
    }
   },
   "outputs": [
    {
     "data": {
      "text/plain": [
       "Index(['gene_1', 'gene_2', 'gene_3', 'gene_4', 'gene_5'], dtype='object')"
      ]
     },
     "execution_count": 26,
     "metadata": {},
     "output_type": "execute_result"
    }
   ],
   "source": [
    "features[0:5]"
   ]
  },
  {
   "cell_type": "code",
   "execution_count": 27,
   "id": "0d731075",
   "metadata": {
    "ExecuteTime": {
     "end_time": "2023-08-21T14:15:39.807931Z",
     "start_time": "2023-08-21T14:15:39.793882Z"
    }
   },
   "outputs": [],
   "source": [
    "# select top n features (you can play around the n value and see the model's performance)\n",
    "n_features = 300\n",
    "selected_scores_indices = np.argsort(MI)[::-1][0:n_features]\n",
    "# np.argsort(MI) this means that we first sort the features \n",
    "# [::-1] then reverse so we have them from highest to lowest \n",
    "# [0:n_features] and the select the first 300"
   ]
  },
  {
   "cell_type": "code",
   "execution_count": 28,
   "id": "da1b647f",
   "metadata": {
    "ExecuteTime": {
     "end_time": "2023-08-21T14:15:39.822926Z",
     "start_time": "2023-08-21T14:15:39.808927Z"
    }
   },
   "outputs": [],
   "source": [
    "X_train_selected = X_train_norm[:,selected_scores_indices]\n",
    "X_test_selected = X_test_norm[:,selected_scores_indices]"
   ]
  },
  {
   "cell_type": "code",
   "execution_count": 29,
   "id": "256364d1",
   "metadata": {
    "ExecuteTime": {
     "end_time": "2023-08-21T14:15:39.838932Z",
     "start_time": "2023-08-21T14:15:39.825932Z"
    }
   },
   "outputs": [
    {
     "data": {
      "text/plain": [
       "(640, 300)"
      ]
     },
     "execution_count": 29,
     "metadata": {},
     "output_type": "execute_result"
    }
   ],
   "source": [
    "X_train_selected.shape "
   ]
  },
  {
   "cell_type": "code",
   "execution_count": 30,
   "id": "c5c98115",
   "metadata": {
    "ExecuteTime": {
     "end_time": "2023-08-21T14:15:39.854173Z",
     "start_time": "2023-08-21T14:15:39.839932Z"
    }
   },
   "outputs": [
    {
     "data": {
      "text/plain": [
       "(161, 300)"
      ]
     },
     "execution_count": 30,
     "metadata": {},
     "output_type": "execute_result"
    }
   ],
   "source": [
    "X_test_selected.shape"
   ]
  },
  {
   "cell_type": "markdown",
   "id": "62cd2b36",
   "metadata": {},
   "source": [
    "## Classification"
   ]
  },
  {
   "cell_type": "markdown",
   "id": "e2721a60",
   "metadata": {},
   "source": [
    "In this script, the random forest classifier is used because it works with multiclass and high dimensional data. Classification involves training and testing the model.\n",
    "Info about the model: \n",
    "https://scikit-learn.org/stable/modules/generated/sklearn.ensemble.RandomForestClassifier.html"
   ]
  },
  {
   "cell_type": "markdown",
   "id": "568ca4b7",
   "metadata": {},
   "source": [
    "**Model training**\n",
    "\n",
    "Training allows the ML model to learn from the data and use the identified patterns to predict the outcomes of data it has never seen before."
   ]
  },
  {
   "cell_type": "code",
   "execution_count": 31,
   "id": "84ebf7f7",
   "metadata": {
    "ExecuteTime": {
     "end_time": "2023-08-21T14:15:51.261371Z",
     "start_time": "2023-08-21T14:15:39.856180Z"
    }
   },
   "outputs": [],
   "source": [
    "# Random forest classifier \n",
    "# Because we are dealing with multiclass data, the one versus rest strategy is used.\n",
    "# learn to predict each class against the other\n",
    "\n",
    "RF = OneVsRestClassifier(RandomForestClassifier(max_features=0.2))\n",
    "RF.fit(X_train_selected,y_train) # we fit the train data together with their labels in the classifier = Supervised learning\n",
    "y_pred = RF.predict(X_test_selected) # after training we make the predictions\n",
    "pred_prob = RF.predict_proba(X_test_selected) # get probabilities for the classifier so we get the roc curves"
   ]
  },
  {
   "cell_type": "markdown",
   "id": "32b3d0e4",
   "metadata": {},
   "source": [
    "**Model Evaluation**\n",
    "\n",
    "After training the model, it is important to know how well the model performs on independent data (test data). We use the following metrics to evaluate the model:\n",
    "\n",
    "- accuracy\n",
    "- precision\n",
    "- recall\n",
    "- f1 score\n",
    "- confusion matrix\n",
    "- ROC Curve"
   ]
  },
  {
   "cell_type": "code",
   "execution_count": 32,
   "id": "e837bce4",
   "metadata": {
    "ExecuteTime": {
     "end_time": "2023-08-21T14:26:27.337592Z",
     "start_time": "2023-08-21T14:26:27.312548Z"
    }
   },
   "outputs": [
    {
     "name": "stdout",
     "output_type": "stream",
     "text": [
      "accuracy:0.9395\n",
      "precision:0.9577\n",
      "recall:0.9565\n",
      "f1score:0.9564\n",
      "\n",
      "\n",
      "classification report\n",
      "\n",
      "\n",
      "              precision    recall  f1-score   support\n",
      "\n",
      "        BRCA       0.94      0.98      0.96        60\n",
      "        COAD       1.00      0.88      0.93        16\n",
      "        KIRC       1.00      0.96      0.98        28\n",
      "        LUAD       0.88      0.88      0.88        24\n",
      "        PRAD       1.00      1.00      1.00        33\n",
      "\n",
      "    accuracy                           0.96       161\n",
      "   macro avg       0.96      0.94      0.95       161\n",
      "weighted avg       0.96      0.96      0.96       161\n",
      "\n"
     ]
    }
   ],
   "source": [
    "# accuracy\n",
    "accuracy = np.round(balanced_accuracy_score(y_test,y_pred),4)\n",
    "print('accuracy:%0.4f'%accuracy)\n",
    "\n",
    "# precision\n",
    "precision = np.round(precision_score(y_test,y_pred,average = 'weighted'),4)\n",
    "print('precision:%0.4f'%precision)\n",
    "\n",
    "# recall \n",
    "recall = np.round(recall_score(y_test,y_pred,average = 'weighted'),4)\n",
    "print('recall:%0.4f'%recall)\n",
    "\n",
    "# f1score\n",
    "f1score = np.round(f1_score(y_test,y_pred,average = 'weighted'),4)\n",
    "print('f1score:%0.4f'%f1score) \n",
    "\n",
    "report = classification_report(y_test,y_pred,target_names=labels)\n",
    "print('\\n')\n",
    "print('classification report\\n\\n')\n",
    "print(report)"
   ]
  },
  {
   "cell_type": "code",
   "execution_count": 34,
   "id": "a31ebdc2",
   "metadata": {
    "ExecuteTime": {
     "end_time": "2023-08-21T14:32:20.248370Z",
     "start_time": "2023-08-21T14:32:20.230351Z"
    }
   },
   "outputs": [],
   "source": [
    "# generate confusion matrix\n",
    "cm = confusion_matrix(y_test,y_pred)\n",
    "cm_df = pd.DataFrame(cm,index=labels,columns=labels)"
   ]
  },
  {
   "cell_type": "code",
   "execution_count": 35,
   "id": "cf14764b",
   "metadata": {
    "ExecuteTime": {
     "end_time": "2023-08-21T14:32:22.785023Z",
     "start_time": "2023-08-21T14:32:22.776025Z"
    },
    "scrolled": true
   },
   "outputs": [
    {
     "data": {
      "text/html": [
       "<div>\n",
       "<style scoped>\n",
       "    .dataframe tbody tr th:only-of-type {\n",
       "        vertical-align: middle;\n",
       "    }\n",
       "\n",
       "    .dataframe tbody tr th {\n",
       "        vertical-align: top;\n",
       "    }\n",
       "\n",
       "    .dataframe thead th {\n",
       "        text-align: right;\n",
       "    }\n",
       "</style>\n",
       "<table border=\"1\" class=\"dataframe\">\n",
       "  <thead>\n",
       "    <tr style=\"text-align: right;\">\n",
       "      <th></th>\n",
       "      <th>BRCA</th>\n",
       "      <th>COAD</th>\n",
       "      <th>KIRC</th>\n",
       "      <th>LUAD</th>\n",
       "      <th>PRAD</th>\n",
       "    </tr>\n",
       "  </thead>\n",
       "  <tbody>\n",
       "    <tr>\n",
       "      <th>BRCA</th>\n",
       "      <td>59</td>\n",
       "      <td>0</td>\n",
       "      <td>0</td>\n",
       "      <td>1</td>\n",
       "      <td>0</td>\n",
       "    </tr>\n",
       "    <tr>\n",
       "      <th>COAD</th>\n",
       "      <td>0</td>\n",
       "      <td>14</td>\n",
       "      <td>0</td>\n",
       "      <td>2</td>\n",
       "      <td>0</td>\n",
       "    </tr>\n",
       "    <tr>\n",
       "      <th>KIRC</th>\n",
       "      <td>1</td>\n",
       "      <td>0</td>\n",
       "      <td>27</td>\n",
       "      <td>0</td>\n",
       "      <td>0</td>\n",
       "    </tr>\n",
       "    <tr>\n",
       "      <th>LUAD</th>\n",
       "      <td>3</td>\n",
       "      <td>0</td>\n",
       "      <td>0</td>\n",
       "      <td>21</td>\n",
       "      <td>0</td>\n",
       "    </tr>\n",
       "    <tr>\n",
       "      <th>PRAD</th>\n",
       "      <td>0</td>\n",
       "      <td>0</td>\n",
       "      <td>0</td>\n",
       "      <td>0</td>\n",
       "      <td>33</td>\n",
       "    </tr>\n",
       "  </tbody>\n",
       "</table>\n",
       "</div>"
      ],
      "text/plain": [
       "      BRCA  COAD  KIRC  LUAD  PRAD\n",
       "BRCA    59     0     0     1     0\n",
       "COAD     0    14     0     2     0\n",
       "KIRC     1     0    27     0     0\n",
       "LUAD     3     0     0    21     0\n",
       "PRAD     0     0     0     0    33"
      ]
     },
     "execution_count": 35,
     "metadata": {},
     "output_type": "execute_result"
    }
   ],
   "source": [
    "cm_df"
   ]
  },
  {
   "cell_type": "markdown",
   "id": "55af8a47",
   "metadata": {},
   "source": [
    "We can see on the above table that, for example, from the 60 cases of BRCA, 59 of them where predicted as BRCA by the model and 1 of them was wrongly predicted as LUAD."
   ]
  },
  {
   "cell_type": "code",
   "execution_count": 36,
   "id": "d77b5295",
   "metadata": {
    "ExecuteTime": {
     "end_time": "2023-08-21T14:37:05.790395Z",
     "start_time": "2023-08-21T14:37:05.620114Z"
    },
    "scrolled": true
   },
   "outputs": [
    {
     "data": {
      "text/plain": [
       "Text(50.722222222222214, 0.5, 'True Labels')"
      ]
     },
     "execution_count": 36,
     "metadata": {},
     "output_type": "execute_result"
    },
    {
     "data": {
      "image/png": "[encoded data removed]",
      "text/plain": [
       "<Figure size 640x480 with 2 Axes>"
      ]
     },
     "metadata": {},
     "output_type": "display_data"
    }
   ],
   "source": [
    "# visualize the confusion matrix\n",
    "sns.heatmap(cm_df,annot=True,cmap='Blues')\n",
    "plt.xlabel('Predicted Labels')\n",
    "plt.ylabel('True Labels')"
   ]
  },
  {
   "cell_type": "code",
   "execution_count": 37,
   "id": "b4b19379",
   "metadata": {
    "ExecuteTime": {
     "end_time": "2023-08-21T14:48:22.256035Z",
     "start_time": "2023-08-21T14:48:22.115782Z"
    }
   },
   "outputs": [
    {
     "data": {
      "image/png": "[encoded data removed]",
      "text/plain": [
       "<Figure size 640x480 with 1 Axes>"
      ]
     },
     "metadata": {},
     "output_type": "display_data"
    }
   ],
   "source": [
    "# roc curves will be generated for each class \n",
    "# we therefore have to binarize the y_test labels\n",
    "# this is done because the probabilities (pred_prob) are calculated from each class\n",
    "# we therefore need to transform the y_test label in the same format as the pred_prob\n",
    "y_test_binarized = label_binarize(y_test,classes=classes)\n",
    "\n",
    "# roc curve for classes\n",
    "fpr = {}\n",
    "tpr = {}\n",
    "thresh = {}\n",
    "roc_auc = dict()\n",
    "\n",
    "n_class = classes.shape[0]\n",
    "\n",
    "for i in range(n_class):\n",
    "    fpr[i],tpr[i],thresh[i] = roc_curve(y_test_binarized[:,i], pred_prob[:,i])\n",
    "    roc_auc[i] = auc(fpr[i],tpr[i])\n",
    "    \n",
    "    # plotting\n",
    "    plt.plot(fpr[i],tpr[i],linestyle='--',\n",
    "            label='%s vs Rest (AUC=%0.2f)'%(labels[i],roc_auc[i]))\n",
    "    \n",
    "plt.plot([0,1],[0,1],'b--')\n",
    "plt.xlim([0,1])\n",
    "plt.ylim([0,1.05])\n",
    "plt.title('Multiclass ROC curve')\n",
    "plt.xlabel('False positive rate')\n",
    "plt.ylabel('True positive rate')\n",
    "plt.legend(loc='lower right')\n",
    "plt.show()\n"
   ]
  },
  {
   "cell_type": "code",
   "execution_count": 39,
   "id": "d9fd063e",
   "metadata": {
    "ExecuteTime": {
     "end_time": "2023-08-21T14:52:21.845595Z",
     "start_time": "2023-08-21T14:52:21.227547Z"
    }
   },
   "outputs": [
    {
     "data": {
      "text/html": [
       "<details>\n",
       "<summary>Click to view session information</summary>\n",
       "<pre>\n",
       "-----\n",
       "matplotlib          3.7.1\n",
       "numpy               1.25.2\n",
       "pandas              2.0.3\n",
       "seaborn             0.12.2\n",
       "session_info        1.0.0\n",
       "sklearn             1.3.0\n",
       "-----\n",
       "</pre>\n",
       "<details>\n",
       "<summary>Click to view modules imported as dependencies</summary>\n",
       "<pre>\n",
       "PIL                 9.4.0\n",
       "anyio               NA\n",
       "asttokens           NA\n",
       "attr                22.1.0\n",
       "babel               2.11.0\n",
       "backcall            0.2.0\n",
       "beta_ufunc          NA\n",
       "binom_ufunc         NA\n",
       "bottleneck          1.3.5\n",
       "brotli              NA\n",
       "certifi             2023.07.22\n",
       "cffi                1.15.1\n",
       "chardet             4.0.0\n",
       "charset_normalizer  2.0.4\n",
       "colorama            0.4.6\n",
       "comm                0.1.2\n",
       "cycler              0.10.0\n",
       "cython_runtime      NA\n",
       "dateutil            2.8.2\n",
       "debugpy             1.6.7\n",
       "decorator           5.1.1\n",
       "defusedxml          0.7.1\n",
       "executing           0.8.3\n",
       "fastjsonschema      NA\n",
       "google              NA\n",
       "hypergeom_ufunc     NA\n",
       "idna                3.4\n",
       "importlib_metadata  NA\n",
       "importlib_resources NA\n",
       "invgauss_ufunc      NA\n",
       "ipykernel           6.25.0\n",
       "ipython_genutils    0.2.0\n",
       "ipywidgets          8.0.4\n",
       "jedi                0.18.1\n",
       "jinja2              3.1.2\n",
       "joblib              1.2.0\n",
       "json5               NA\n",
       "jsonpointer         2.1\n",
       "jsonschema          4.17.3\n",
       "jupyter_events      0.6.3\n",
       "jupyter_server      2.5.0\n",
       "jupyterlab_server   2.22.0\n",
       "kiwisolver          1.4.4\n",
       "markupsafe          2.1.1\n",
       "matplotlib_inline   0.1.6\n",
       "mpl_toolkits        NA\n",
       "nbformat            5.4.0\n",
       "nbinom_ufunc        NA\n",
       "ncf_ufunc           NA\n",
       "nct_ufunc           NA\n",
       "ncx2_ufunc          NA\n",
       "nt                  NA\n",
       "numexpr             2.8.4\n",
       "packaging           23.0\n",
       "parso               0.8.3\n",
       "patsy               0.5.3\n",
       "pickleshare         0.7.5\n",
       "pkg_resources       NA\n",
       "platformdirs        3.10.0\n",
       "prometheus_client   NA\n",
       "prompt_toolkit      3.0.36\n",
       "psutil              5.9.0\n",
       "pure_eval           0.2.2\n",
       "pvectorc            NA\n",
       "pydev_ipython       NA\n",
       "pydevconsole        NA\n",
       "pydevd              2.9.5\n",
       "pydevd_file_utils   NA\n",
       "pydevd_plugins      NA\n",
       "pydevd_tracing      NA\n",
       "pygments            2.15.1\n",
       "pyparsing           3.0.9\n",
       "pyrsistent          NA\n",
       "pythoncom           NA\n",
       "pythonjsonlogger    NA\n",
       "pytz                2022.7\n",
       "pywintypes          NA\n",
       "requests            2.31.0\n",
       "rfc3339_validator   0.1.4\n",
       "rfc3986_validator   0.1.1\n",
       "ruamel              NA\n",
       "scipy               1.10.1\n",
       "send2trash          NA\n",
       "setuptools          59.5.0\n",
       "six                 1.16.0\n",
       "skewnorm_ufunc      NA\n",
       "sniffio             1.2.0\n",
       "socks               1.7.1\n",
       "sphinxcontrib       NA\n",
       "stack_data          0.2.0\n",
       "statsmodels         0.14.0\n",
       "threadpoolctl       2.2.0\n",
       "tornado             6.3.2\n",
       "traitlets           5.7.1\n",
       "typing_extensions   NA\n",
       "urllib3             1.26.16\n",
       "wcwidth             0.2.5\n",
       "websocket           0.58.0\n",
       "win32api            NA\n",
       "win32com            NA\n",
       "win32con            NA\n",
       "win32trace          NA\n",
       "winerror            NA\n",
       "yaml                5.4.1\n",
       "zipp                NA\n",
       "zmq                 25.1.0\n",
       "zoneinfo            NA\n",
       "zope                NA\n",
       "zstandard           0.19.0\n",
       "</pre>\n",
       "</details> <!-- seems like this ends pre, so might as well be explicit -->\n",
       "<pre>\n",
       "-----\n",
       "IPython             8.12.2\n",
       "jupyter_client      8.1.0\n",
       "jupyter_core        5.3.0\n",
       "jupyterlab          3.6.3\n",
       "notebook            6.5.2\n",
       "-----\n",
       "Python 3.9.15 (main, Nov 24 2022, 14:39:17) [MSC v.1916 64 bit (AMD64)]\n",
       "Windows-10-10.0.22621-SP0\n",
       "-----\n",
       "Session information updated at 2023-08-21 17:52\n",
       "</pre>\n",
       "</details>"
      ],
      "text/plain": [
       "<IPython.core.display.HTML object>"
      ]
     },
     "execution_count": 39,
     "metadata": {},
     "output_type": "execute_result"
    }
   ],
   "source": [
    "session_info.show()"
   ]
  },
  {
   "cell_type": "code",
   "execution_count": null,
   "id": "339b2aa5",
   "metadata": {},
   "outputs": [],
   "source": []
  }
 ],
 "metadata": {
  "kernelspec": {
   "display_name": "Python 3 (ipykernel)",
   "language": "python",
   "name": "python3"
  },
  "language_info": {
   "codemirror_mode": {
    "name": "ipython",
    "version": 3
   },
   "file_extension": ".py",
   "mimetype": "text/x-python",
   "name": "python",
   "nbconvert_exporter": "python",
   "pygments_lexer": "ipython3",
   "version": "3.9.15"
  }
 },
 "nbformat": 4,
 "nbformat_minor": 5
}
